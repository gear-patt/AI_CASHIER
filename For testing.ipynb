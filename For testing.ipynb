{
 "cells": [
  {
   "cell_type": "code",
   "execution_count": 1,
   "id": "24449f7d",
   "metadata": {},
   "outputs": [
    {
     "name": "stderr",
     "output_type": "stream",
     "text": [
      "2022-02-15 21:24:08.504963: I tensorflow/core/platform/cpu_feature_guard.cc:145] This TensorFlow binary is optimized with Intel(R) MKL-DNN to use the following CPU instructions in performance critical operations:  SSE4.1 SSE4.2 AVX AVX2 FMA\n",
      "To enable them in non-MKL-DNN operations, rebuild TensorFlow with the appropriate compiler flags.\n",
      "2022-02-15 21:24:08.505264: I tensorflow/core/common_runtime/process_util.cc:115] Creating new thread pool with default inter op setting: 8. Tune using inter_op_parallelism_threads for best performance.\n"
     ]
    }
   ],
   "source": [
    "from tensorflow.keras.models import load_model\n",
    "loaded_model = load_model('model.h5')"
   ]
  },
  {
   "cell_type": "code",
   "execution_count": 2,
   "id": "b12918e6",
   "metadata": {},
   "outputs": [],
   "source": [
    "import cv2\n",
    "import numpy as np\n",
    "def test_model(img): #img = file_name(str)\n",
    "    img = cv2.imread(img)\n",
    "    img = cv2.resize(img, (32, 32))\n",
    "    img = img/255.0\n",
    "    l = []\n",
    "    l.append(img)\n",
    "    l = np.asarray(l)\n",
    "    prediction = np.argmax(loaded_model.predict(l))\n",
    "    result = ''\n",
    "    if prediction == 0:\n",
    "        result = 'prediction: apple'\n",
    "    elif prediction == 1:\n",
    "        result = 'prediction: banana'\n",
    "    elif prediction == 2:\n",
    "        result = 'prediction: capsicum'\n",
    "    elif prediction == 3:\n",
    "        result = 'prediction: corn'\n",
    "    else:\n",
    "        result = 'prediction: orange'\n",
    "    return result"
   ]
  },
  {
   "cell_type": "code",
   "execution_count": 3,
   "id": "fcba9022",
   "metadata": {},
   "outputs": [
    {
     "ename": "KeyboardInterrupt",
     "evalue": "",
     "output_type": "error",
     "traceback": [
      "\u001b[0;31m---------------------------------------------------------------------------\u001b[0m",
      "\u001b[0;31mKeyboardInterrupt\u001b[0m                         Traceback (most recent call last)",
      "\u001b[0;32m/var/folders/cc/x5bgxf9x70g30grqhtc0mp7w0000gp/T/ipykernel_3922/1848818777.py\u001b[0m in \u001b[0;36m<module>\u001b[0;34m\u001b[0m\n\u001b[1;32m     13\u001b[0m     \u001b[0mcv2\u001b[0m\u001b[0;34m.\u001b[0m\u001b[0mimshow\u001b[0m\u001b[0;34m(\u001b[0m\u001b[0;34m\"test\"\u001b[0m\u001b[0;34m,\u001b[0m \u001b[0mframe\u001b[0m\u001b[0;34m)\u001b[0m\u001b[0;34m\u001b[0m\u001b[0m\n\u001b[1;32m     14\u001b[0m \u001b[0;34m\u001b[0m\u001b[0m\n\u001b[0;32m---> 15\u001b[0;31m     \u001b[0mk\u001b[0m \u001b[0;34m=\u001b[0m \u001b[0mcv2\u001b[0m\u001b[0;34m.\u001b[0m\u001b[0mwaitKey\u001b[0m\u001b[0;34m(\u001b[0m\u001b[0;36m1\u001b[0m\u001b[0;34m)\u001b[0m\u001b[0;34m\u001b[0m\u001b[0m\n\u001b[0m\u001b[1;32m     16\u001b[0m     \u001b[0mtext\u001b[0m \u001b[0;34m=\u001b[0m \u001b[0;34m\"\"\u001b[0m\u001b[0;34m\u001b[0m\u001b[0m\n\u001b[1;32m     17\u001b[0m     \u001b[0;32mif\u001b[0m \u001b[0mk\u001b[0m\u001b[0;34m%\u001b[0m\u001b[0;36m256\u001b[0m \u001b[0;34m==\u001b[0m \u001b[0;36m27\u001b[0m\u001b[0;34m:\u001b[0m\u001b[0;34m\u001b[0m\u001b[0m\n",
      "\u001b[0;31mKeyboardInterrupt\u001b[0m: "
     ]
    }
   ],
   "source": [
    "import serial\n",
    "import time\n",
    "cam = cv2.VideoCapture(0)\n",
    "\n",
    "cv2.namedWindow(\"test\")\n",
    "img_counter = 0\n",
    "\n",
    "while True:\n",
    "    ret, frame = cam.read()\n",
    "    if not ret:\n",
    "        print(\"failed to grab frame\")\n",
    "        break\n",
    "    cv2.imshow(\"test\", frame)\n",
    "\n",
    "    k = cv2.waitKey(1)\n",
    "    text = \"\"\n",
    "    if k%256 == 27:\n",
    "        # ESC pressed\n",
    "        #apple is 25 baht, banana is 20 baht, capsicum is 15 baht, corn is 10 baht, ornage is 5 baht.\n",
    "        text = \"Done\"\n",
    "        break\n",
    "    elif k%256 == 32:\n",
    "        # SPACE pressed\n",
    "        img_name = \"opencv_frame_{}.png\".format(img_counter)\n",
    "        cv2.imwrite(img_name, frame)\n",
    "        img_counter += 1\n",
    "        result = test_model(img_name)\n",
    "        if result == 'prediction: apple':\n",
    "            text = \"Apple 25\"\n",
    "        elif result == 'prediction: banana':\n",
    "            text = \"Banana 20\"\n",
    "        elif result == 'prediction: capsicum':\n",
    "            text = \"Capsicum 15\"\n",
    "        elif result == 'prediction: corn':\n",
    "            text = \"Corn 10\"\n",
    "        else:\n",
    "            text = \"Orange 5\"\n",
    "    serialcomm = serial.Serial('/dev/cu.usbmodem14201', 9600)  # tf are ports really?\n",
    "    serialcomm.timeout = 1  # huh?\n",
    "    if text == 'Done':\n",
    "        print('finished program')\n",
    "        break\n",
    "    serialcomm.write(text.encode())\n",
    "    time.sleep(0.01)\n",
    "\n",
    "serialcomm.close()\n",
    "          \n",
    "cam.release()\n",
    "\n",
    "cv2.destroyAllWindows()"
   ]
  },
  {
   "cell_type": "code",
   "execution_count": 3,
   "id": "8e7bb53b",
   "metadata": {},
   "outputs": [
    {
     "name": "stdout",
     "output_type": "stream",
     "text": [
      "input: Apple 25\n",
      "\n",
      "input: done\n",
      "finished program\n"
     ]
    }
   ],
   "source": [
    "import serial\n",
    "import time\n",
    "\n",
    "\n",
    "serialcomm = serial.Serial('/dev/cu.usbmodem14201', 9600)  # tf are ports really?\n",
    "serialcomm.timeout = 1  # huh?\n",
    "\n",
    "while True:\n",
    "    i = input(\"input: \").strip()\n",
    "    if i == 'done':\n",
    "        print('finished program')\n",
    "        break\n",
    "    serialcomm.write(i.encode())\n",
    "    time.sleep(0.5)\n",
    "    print(serialcomm.readline().decode('ascii'))\n",
    "\n",
    "serialcomm.close()"
   ]
  },
  {
   "cell_type": "code",
   "execution_count": null,
   "id": "6b81a623",
   "metadata": {},
   "outputs": [],
   "source": []
  }
 ],
 "metadata": {
  "kernelspec": {
   "display_name": "Python 3 (ipykernel)",
   "language": "python",
   "name": "python3"
  },
  "language_info": {
   "codemirror_mode": {
    "name": "ipython",
    "version": 3
   },
   "file_extension": ".py",
   "mimetype": "text/x-python",
   "name": "python",
   "nbconvert_exporter": "python",
   "pygments_lexer": "ipython3",
   "version": "3.7.0"
  }
 },
 "nbformat": 4,
 "nbformat_minor": 5
}
